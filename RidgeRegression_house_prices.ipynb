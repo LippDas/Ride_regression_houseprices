{
 "cells": [
  {
   "cell_type": "code",
   "execution_count": 53,
   "id": "d22affc8-8f8a-4868-a93a-521abba3a2dd",
   "metadata": {},
   "outputs": [],
   "source": [
    "# basic modules\n",
    "import numpy as np\n",
    "import pandas as pd\n",
    "%matplotlib inline\n",
    "import matplotlib.pyplot as plt\n",
    "from sklearn.pipeline import Pipeline\n",
    "from sklearn.model_selection import GridSearchCV\n",
    "from sklearn.compose import ColumnTransformer\n",
    "from sklearn.impute import SimpleImputer\n",
    "from sklearn.preprocessing import StandardScaler, OneHotEncoder\n",
    "from sklearn.linear_model import Ridge\n",
    "from sklearn.metrics import accuracy_score"
   ]
  },
  {
   "cell_type": "code",
   "execution_count": 2,
   "id": "595eabd0-1752-4881-927d-024eeea539ad",
   "metadata": {},
   "outputs": [],
   "source": [
    "train_data = pd.read_csv(\"/Users/lippek/Desktop/ML in R/Python/Zadania/data/Ridge_regression_houseprice/train.csv\")\n",
    "test_data = pd.read_csv(\"/Users/lippek/Desktop/ML in R/Python/Zadania/data/Ridge_regression_houseprice/test.csv\")\n",
    "\n",
    "x = train_data.drop(['SalePrice', 'Id'], axis = 1)\n",
    "train_labels = train_data['SalePrice'].values\n",
    "x_test = test_data.drop(['Id'], axis = 1)"
   ]
  },
  {
   "cell_type": "code",
   "execution_count": 3,
   "id": "03ae4f5b-e7ee-4e3b-8ade-250e2a20d7f3",
   "metadata": {},
   "outputs": [
    {
     "name": "stdout",
     "output_type": "stream",
     "text": [
      "MSSubClass:int64\n",
      "MSZoning:object\n",
      "LotFrontage:float64\n",
      "LotArea:int64\n",
      "Street:object\n",
      "Alley:object\n",
      "LotShape:object\n",
      "LandContour:object\n",
      "Utilities:object\n",
      "LotConfig:object\n",
      "LandSlope:object\n",
      "Neighborhood:object\n",
      "Condition1:object\n",
      "Condition2:object\n",
      "BldgType:object\n",
      "HouseStyle:object\n",
      "OverallQual:int64\n",
      "OverallCond:int64\n",
      "YearBuilt:int64\n",
      "YearRemodAdd:int64\n",
      "RoofStyle:object\n",
      "RoofMatl:object\n",
      "Exterior1st:object\n",
      "Exterior2nd:object\n",
      "MasVnrType:object\n",
      "MasVnrArea:float64\n",
      "ExterQual:object\n",
      "ExterCond:object\n",
      "Foundation:object\n",
      "BsmtQual:object\n",
      "BsmtCond:object\n",
      "BsmtExposure:object\n",
      "BsmtFinType1:object\n",
      "BsmtFinSF1:int64\n",
      "BsmtFinType2:object\n",
      "BsmtFinSF2:int64\n",
      "BsmtUnfSF:int64\n",
      "TotalBsmtSF:int64\n",
      "Heating:object\n",
      "HeatingQC:object\n",
      "CentralAir:object\n",
      "Electrical:object\n",
      "1stFlrSF:int64\n",
      "2ndFlrSF:int64\n",
      "LowQualFinSF:int64\n",
      "GrLivArea:int64\n",
      "BsmtFullBath:int64\n",
      "BsmtHalfBath:int64\n",
      "FullBath:int64\n",
      "HalfBath:int64\n",
      "BedroomAbvGr:int64\n",
      "KitchenAbvGr:int64\n",
      "KitchenQual:object\n",
      "TotRmsAbvGrd:int64\n",
      "Functional:object\n",
      "Fireplaces:int64\n",
      "FireplaceQu:object\n",
      "GarageType:object\n",
      "GarageYrBlt:float64\n",
      "GarageFinish:object\n",
      "GarageCars:int64\n",
      "GarageArea:int64\n",
      "GarageQual:object\n",
      "GarageCond:object\n",
      "PavedDrive:object\n",
      "WoodDeckSF:int64\n",
      "OpenPorchSF:int64\n",
      "EnclosedPorch:int64\n",
      "3SsnPorch:int64\n",
      "ScreenPorch:int64\n",
      "PoolArea:int64\n",
      "PoolQC:object\n",
      "Fence:object\n",
      "MiscFeature:object\n",
      "MiscVal:int64\n",
      "MoSold:int64\n",
      "YrSold:int64\n",
      "SaleType:object\n",
      "SaleCondition:object\n"
     ]
    }
   ],
   "source": [
    "# Typeee of each column\n",
    "for colname in x.columns:\n",
    "    print(colname + ':' +str(x[colname].dtype))"
   ]
  },
  {
   "cell_type": "code",
   "execution_count": 4,
   "id": "47745b57-31d9-4ac5-81c6-158e24c4a760",
   "metadata": {},
   "outputs": [],
   "source": [
    "# fucntion to changeing column type\n",
    "def prepro_change_column_type(x):\n",
    "    x['MSSubClass'] = x['MSSubClass'].astype('str')"
   ]
  },
  {
   "cell_type": "code",
   "execution_count": 5,
   "id": "cbc1fcaa-48df-45d5-8ca7-8ee8b5ff2ab4",
   "metadata": {},
   "outputs": [],
   "source": [
    "prepro_change_column_type(x)"
   ]
  },
  {
   "cell_type": "code",
   "execution_count": 6,
   "id": "8fdc8ca7-da4b-4880-8359-09f6092eba89",
   "metadata": {},
   "outputs": [],
   "source": [
    "prepro_test_list = []\n",
    "prepro_test_list.append(prepro_change_column_type)"
   ]
  },
  {
   "cell_type": "code",
   "execution_count": 7,
   "id": "c193b5e4-ed88-47aa-b0dc-6d45789057e5",
   "metadata": {},
   "outputs": [],
   "source": [
    "# remove columns with moree than 50% missing values\n",
    "count_null = x.isnull().sum(axis = 0)/x.shape[0]\n",
    "variable_null = count_null[count_null > 0]"
   ]
  },
  {
   "cell_type": "code",
   "execution_count": 8,
   "id": "00152dff-e77b-4698-a3f6-9eda3574b9f9",
   "metadata": {},
   "outputs": [],
   "source": [
    "# removee variable with more than 50% missing valuees\n",
    "remove_variable_index = list(variable_null[variable_null > 0.5].index)"
   ]
  },
  {
   "cell_type": "code",
   "execution_count": 9,
   "id": "e564c47d-14fe-48b0-9246-e4f4b4f2ef30",
   "metadata": {},
   "outputs": [],
   "source": [
    "variable_null.drop(remove_variable_index, inplace = True)"
   ]
  },
  {
   "cell_type": "code",
   "execution_count": 10,
   "id": "b0d78828-fd55-424a-b124-a753469fbe2a",
   "metadata": {},
   "outputs": [],
   "source": [
    "def prepro_nan_columns(x):\n",
    "    x.drop(remove_variable_index, axis = 1, inplace = True)\n",
    "prepro_nan_columns(x)"
   ]
  },
  {
   "cell_type": "code",
   "execution_count": 11,
   "id": "dc2a4b57-0eed-43c0-ad9e-1441e0b0433d",
   "metadata": {},
   "outputs": [
    {
     "name": "stdout",
     "output_type": "stream",
     "text": [
      "variablee with NaN after droping those with moree than 50% missing: LotFrontage     0.177397\n",
      "MasVnrType      0.005479\n",
      "MasVnrArea      0.005479\n",
      "BsmtQual        0.025342\n",
      "BsmtCond        0.025342\n",
      "BsmtExposure    0.026027\n",
      "BsmtFinType1    0.025342\n",
      "BsmtFinType2    0.026027\n",
      "Electrical      0.000685\n",
      "FireplaceQu     0.472603\n",
      "GarageType      0.055479\n",
      "GarageYrBlt     0.055479\n",
      "GarageFinish    0.055479\n",
      "GarageQual      0.055479\n",
      "GarageCond      0.055479\n",
      "dtype: float64\n"
     ]
    }
   ],
   "source": [
    "print('variablee with NaN after droping those with moree than 50% missing:', variable_null)"
   ]
  },
  {
   "cell_type": "code",
   "execution_count": 12,
   "id": "6743ce87-4e2c-49ac-b0d2-1d68696b5427",
   "metadata": {},
   "outputs": [],
   "source": [
    "# choose cat and num columns \n",
    "num_columns = x.select_dtypes(include = np.number).columns.tolist()\n",
    "cat_columns = x.select_dtypes(include = ['object', 'category']).columns.tolist()"
   ]
  },
  {
   "cell_type": "code",
   "execution_count": 13,
   "id": "bab7ef80-48ec-463c-96c1-25767fd722e5",
   "metadata": {},
   "outputs": [
    {
     "name": "stdout",
     "output_type": "stream",
     "text": [
      "0 observations reemoved becausee of having more than 50% of null values\n"
     ]
    }
   ],
   "source": [
    "# remove observations with moree than 50% missing values \n",
    "count_obs_null = x.isnull().sum(axis = 1)/x.shape[1]\n",
    "obs_null = count_obs_null[count_obs_null > 0]\n",
    "remove_obs_index = list(obs_null[obs_null > 0.5].index)\n",
    "x.drop(remove_obs_index, axis = 1, inplace = True)\n",
    "print(len(remove_obs_index), 'observations reemoved becausee of having more than 50% of null values')"
   ]
  },
  {
   "cell_type": "code",
   "execution_count": 14,
   "id": "995e0661-08c8-400d-8ebd-868056fb7d02",
   "metadata": {},
   "outputs": [],
   "source": [
    "# imptuding missing values with from thee knowledge of this paritcualr dataset\n",
    "def prepro_nan_objective_imputing(x):\n",
    "    x['MasVnrType'].fillna('None', inplace = True)\n",
    "    \n",
    "    aux_list = ['BsmtQual',\n",
    "                'BsmtCond',\n",
    "                'BsmtExposure',\n",
    "                'BsmtFinType1',\n",
    "                'BstmFinType2',\n",
    "                'GarageType',\n",
    "                'GarageFinish',\n",
    "                'GarageQual',\n",
    "                'GarageCond',\n",
    "                'FireplaceQu'\n",
    "        \n",
    "    ]\n",
    "    for i in aux_list:\n",
    "        x[i].fillna('NA', inplace = True)\n",
    "        \n",
    "    #numerical\n",
    "    x['MasVnrArea'].fillna(0, inplace = True)\n",
    "    \n",
    "    x.loc[x['BsmtCond'] == 'NA', ['BsmtUnfSF',\n",
    "                                   'TotalBsmtSF',\n",
    "                                   'BsmtFullBath',\n",
    "                                   'BsmtHalfBath',\n",
    "                                   'BsmtFinSF1',\n",
    "                                   'BsmtFinSF2']]=0\n",
    "    prepro_nan_obejctive_imputing(x)\n",
    "    prepro_test_list.append(prepro_nan_objective_imputing)"
   ]
  },
  {
   "cell_type": "code",
   "execution_count": 15,
   "id": "e547d768-8267-41bd-afe3-fc9f581fbf8f",
   "metadata": {},
   "outputs": [],
   "source": [
    "# removing outlier\n",
    "x = x.loc[\n",
    "    (x['LotArea'] < 100000)\n",
    "    | (x['LotFrontage'] < 250)\n",
    "    | (x['1stFlrSF'] < 4000)\n",
    "    | (x['BsmtFinSF1'] < 5000)\n",
    "    | (x['BsmtFinSF2'] < 1400)\n",
    "    | (x['EnclosedPorch'] < 500)\n",
    "    | (x['GrLivArea'] < 5000)\n",
    "    | (x['TotalBsmtSF'] < 6000),\n",
    "]"
   ]
  },
  {
   "cell_type": "code",
   "execution_count": 16,
   "id": "5f4a7d51-259f-42bd-b37d-b72ca38f8220",
   "metadata": {},
   "outputs": [
    {
     "data": {
      "text/plain": [
       "(1460, 75)"
      ]
     },
     "execution_count": 16,
     "metadata": {},
     "output_type": "execute_result"
    }
   ],
   "source": [
    "x.shape"
   ]
  },
  {
   "cell_type": "code",
   "execution_count": 17,
   "id": "d54defc9-6771-4cbc-896e-1b845289af57",
   "metadata": {},
   "outputs": [],
   "source": [
    "# Automatic missing values imputation and normalization in numerical variables using meedian and mode\n",
    "# After that Wee will standardzie the numeric variables and one-hot eencode thee categorical ones"
   ]
  },
  {
   "cell_type": "code",
   "execution_count": 18,
   "id": "4152ee18-f43c-4fbe-b942-f52665516dd1",
   "metadata": {},
   "outputs": [],
   "source": [
    "numeric_transform = Pipeline([\n",
    "    ('median', SimpleImputer(strategy = 'median')),\n",
    "    ('standard', StandardScaler())\n",
    "])\n",
    "categorical_transform = Pipeline([\n",
    "    ('mostfreq', SimpleImputer(strategy = 'most_frequent')),\n",
    "    ('onehot', OneHotEncoder(handle_unknown = 'ignore'))\n",
    "])"
   ]
  },
  {
   "cell_type": "code",
   "execution_count": 19,
   "id": "f79ed959-63fb-4c55-9821-71f1c50e52db",
   "metadata": {},
   "outputs": [],
   "source": [
    "prepro_transformer = ColumnTransformer([('num', numeric_transform, num_columns),\n",
    "                                       ('cat', categorical_transform, cat_columns)])"
   ]
  },
  {
   "cell_type": "markdown",
   "id": "34e626ba-4ee0-4d54-93ac-3a2c72c9f731",
   "metadata": {},
   "source": [
    "## 2. Modeling"
   ]
  },
  {
   "cell_type": "code",
   "execution_count": 32,
   "id": "a4e256ad-7e56-4fb7-a97d-0d268155d654",
   "metadata": {},
   "outputs": [],
   "source": [
    "y = np.log10(train_labels)"
   ]
  },
  {
   "cell_type": "code",
   "execution_count": 23,
   "id": "8b2b64ad-9546-4f58-adff-c7718d809b5f",
   "metadata": {},
   "outputs": [],
   "source": [
    "pipeline = Pipeline([('prepro', prepro_transformer), ('estimator', Ridge())])"
   ]
  },
  {
   "cell_type": "code",
   "execution_count": 33,
   "id": "858c92d5-8ded-464d-8706-e2b668e74593",
   "metadata": {},
   "outputs": [],
   "source": [
    "# apply Grid Search to find optimal hyperparametrs for the algorithm\n",
    "param_grid = dict(estimator__alpha = np.linspace(10, 100, 100))\n",
    "grid_search = GridSearchCV(pipeline, param_grid, scoring = 'neg_mean_squared_error', cv = 5, verbose = 0)"
   ]
  },
  {
   "cell_type": "code",
   "execution_count": 34,
   "id": "508bc7de-6970-4c13-8f84-756f974c6a9f",
   "metadata": {},
   "outputs": [
    {
     "data": {
      "text/plain": [
       "GridSearchCV(cv=5,\n",
       "             estimator=Pipeline(steps=[('prepro',\n",
       "                                        ColumnTransformer(transformers=[('num',\n",
       "                                                                         Pipeline(steps=[('median',\n",
       "                                                                                          SimpleImputer(strategy='median')),\n",
       "                                                                                         ('standard',\n",
       "                                                                                          StandardScaler())]),\n",
       "                                                                         ['LotFrontage',\n",
       "                                                                          'LotArea',\n",
       "                                                                          'OverallQual',\n",
       "                                                                          'OverallCond',\n",
       "                                                                          'YearBuilt',\n",
       "                                                                          'YearRemodAdd',\n",
       "                                                                          'MasVnrArea',\n",
       "                                                                          'BsmtFinSF1',\n",
       "                                                                          'BsmtFinSF2',\n",
       "                                                                          'BsmtUnfSF',\n",
       "                                                                          'TotalBsmtSF',\n",
       "                                                                          '1stFlrSF',\n",
       "                                                                          '2ndFlrSF...\n",
       "        71.81818182,  72.72727273,  73.63636364,  74.54545455,\n",
       "        75.45454545,  76.36363636,  77.27272727,  78.18181818,\n",
       "        79.09090909,  80.        ,  80.90909091,  81.81818182,\n",
       "        82.72727273,  83.63636364,  84.54545455,  85.45454545,\n",
       "        86.36363636,  87.27272727,  88.18181818,  89.09090909,\n",
       "        90.        ,  90.90909091,  91.81818182,  92.72727273,\n",
       "        93.63636364,  94.54545455,  95.45454545,  96.36363636,\n",
       "        97.27272727,  98.18181818,  99.09090909, 100.        ])},\n",
       "             scoring='neg_mean_squared_error')"
      ]
     },
     "execution_count": 34,
     "metadata": {},
     "output_type": "execute_result"
    }
   ],
   "source": [
    "grid_search.fit(x, y)"
   ]
  },
  {
   "cell_type": "code",
   "execution_count": 36,
   "id": "dd80c3c7-738a-4396-9022-5219ed72f276",
   "metadata": {},
   "outputs": [
    {
     "data": {
      "text/plain": [
       "Pipeline(steps=[('prepro',\n",
       "                 ColumnTransformer(transformers=[('num',\n",
       "                                                  Pipeline(steps=[('median',\n",
       "                                                                   SimpleImputer(strategy='median')),\n",
       "                                                                  ('standard',\n",
       "                                                                   StandardScaler())]),\n",
       "                                                  ['LotFrontage', 'LotArea',\n",
       "                                                   'OverallQual', 'OverallCond',\n",
       "                                                   'YearBuilt', 'YearRemodAdd',\n",
       "                                                   'MasVnrArea', 'BsmtFinSF1',\n",
       "                                                   'BsmtFinSF2', 'BsmtUnfSF',\n",
       "                                                   'TotalBsmtSF', '1stFlrSF',\n",
       "                                                   '2ndFlrSF', 'LowQualFinSF',\n",
       "                                                   'GrLivArea'...\n",
       "                                                   'LotConfig', 'LandSlope',\n",
       "                                                   'Neighborhood', 'Condition1',\n",
       "                                                   'Condition2', 'BldgType',\n",
       "                                                   'HouseStyle', 'RoofStyle',\n",
       "                                                   'RoofMatl', 'Exterior1st',\n",
       "                                                   'Exterior2nd', 'MasVnrType',\n",
       "                                                   'ExterQual', 'ExterCond',\n",
       "                                                   'Foundation', 'BsmtQual',\n",
       "                                                   'BsmtCond', 'BsmtExposure',\n",
       "                                                   'BsmtFinType1',\n",
       "                                                   'BsmtFinType2', 'Heating',\n",
       "                                                   'HeatingQC', 'CentralAir',\n",
       "                                                   'Electrical', ...])])),\n",
       "                ('estimator', Ridge(alpha=16.363636363636363))])"
      ]
     },
     "execution_count": 36,
     "metadata": {},
     "output_type": "execute_result"
    }
   ],
   "source": [
    "best_model = grid_search.best_estimator_\n",
    "best_model"
   ]
  },
  {
   "cell_type": "markdown",
   "id": "be3c52d4-52a8-4f31-ac79-417261576159",
   "metadata": {},
   "source": [
    "## 3. Predicting "
   ]
  },
  {
   "cell_type": "code",
   "execution_count": 37,
   "id": "a98d317d-bdf2-4cef-831b-c87d263447bc",
   "metadata": {},
   "outputs": [],
   "source": [
    "for func in prepro_test_list:\n",
    "    func(x_test)"
   ]
  },
  {
   "cell_type": "code",
   "execution_count": 39,
   "id": "78cebe8d-9ba3-4dbc-8f77-04f3228f2471",
   "metadata": {},
   "outputs": [],
   "source": [
    "y_pred = 10**best_model.predict(x_test)"
   ]
  },
  {
   "cell_type": "code",
   "execution_count": 45,
   "id": "0b1068fb-78e9-4c19-9f05-e976011700ba",
   "metadata": {},
   "outputs": [
    {
     "data": {
      "text/html": [
       "<div>\n",
       "<style scoped>\n",
       "    .dataframe tbody tr th:only-of-type {\n",
       "        vertical-align: middle;\n",
       "    }\n",
       "\n",
       "    .dataframe tbody tr th {\n",
       "        vertical-align: top;\n",
       "    }\n",
       "\n",
       "    .dataframe thead th {\n",
       "        text-align: right;\n",
       "    }\n",
       "</style>\n",
       "<table border=\"1\" class=\"dataframe\">\n",
       "  <thead>\n",
       "    <tr style=\"text-align: right;\">\n",
       "      <th></th>\n",
       "      <th>Id</th>\n",
       "      <th>SalePrice</th>\n",
       "    </tr>\n",
       "  </thead>\n",
       "  <tbody>\n",
       "    <tr>\n",
       "      <th>0</th>\n",
       "      <td>1461</td>\n",
       "      <td>113453.522679</td>\n",
       "    </tr>\n",
       "    <tr>\n",
       "      <th>1</th>\n",
       "      <td>1462</td>\n",
       "      <td>145597.228297</td>\n",
       "    </tr>\n",
       "    <tr>\n",
       "      <th>2</th>\n",
       "      <td>1463</td>\n",
       "      <td>169815.073093</td>\n",
       "    </tr>\n",
       "    <tr>\n",
       "      <th>3</th>\n",
       "      <td>1464</td>\n",
       "      <td>192413.206242</td>\n",
       "    </tr>\n",
       "    <tr>\n",
       "      <th>4</th>\n",
       "      <td>1465</td>\n",
       "      <td>199798.557337</td>\n",
       "    </tr>\n",
       "    <tr>\n",
       "      <th>...</th>\n",
       "      <td>...</td>\n",
       "      <td>...</td>\n",
       "    </tr>\n",
       "    <tr>\n",
       "      <th>1454</th>\n",
       "      <td>2915</td>\n",
       "      <td>85730.527668</td>\n",
       "    </tr>\n",
       "    <tr>\n",
       "      <th>1455</th>\n",
       "      <td>2916</td>\n",
       "      <td>83958.994492</td>\n",
       "    </tr>\n",
       "    <tr>\n",
       "      <th>1456</th>\n",
       "      <td>2917</td>\n",
       "      <td>156863.359919</td>\n",
       "    </tr>\n",
       "    <tr>\n",
       "      <th>1457</th>\n",
       "      <td>2918</td>\n",
       "      <td>114138.106217</td>\n",
       "    </tr>\n",
       "    <tr>\n",
       "      <th>1458</th>\n",
       "      <td>2919</td>\n",
       "      <td>224179.309680</td>\n",
       "    </tr>\n",
       "  </tbody>\n",
       "</table>\n",
       "<p>1459 rows × 2 columns</p>\n",
       "</div>"
      ],
      "text/plain": [
       "        Id      SalePrice\n",
       "0     1461  113453.522679\n",
       "1     1462  145597.228297\n",
       "2     1463  169815.073093\n",
       "3     1464  192413.206242\n",
       "4     1465  199798.557337\n",
       "...    ...            ...\n",
       "1454  2915   85730.527668\n",
       "1455  2916   83958.994492\n",
       "1456  2917  156863.359919\n",
       "1457  2918  114138.106217\n",
       "1458  2919  224179.309680\n",
       "\n",
       "[1459 rows x 2 columns]"
      ]
     },
     "execution_count": 45,
     "metadata": {},
     "output_type": "execute_result"
    }
   ],
   "source": [
    "df_submit = pd.DataFrame({'Id': test_data['Id'], 'SalePrice': c})\n",
    "df_submit"
   ]
  }
 ],
 "metadata": {
  "kernelspec": {
   "display_name": "Python 3 (ipykernel)",
   "language": "python",
   "name": "python3"
  },
  "language_info": {
   "codemirror_mode": {
    "name": "ipython",
    "version": 3
   },
   "file_extension": ".py",
   "mimetype": "text/x-python",
   "name": "python",
   "nbconvert_exporter": "python",
   "pygments_lexer": "ipython3",
   "version": "3.8.8"
  }
 },
 "nbformat": 4,
 "nbformat_minor": 5
}
